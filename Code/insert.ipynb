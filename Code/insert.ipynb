{
 "cells": [
  {
   "cell_type": "code",
   "execution_count": 1,
   "id": "df7ea053",
   "metadata": {},
   "outputs": [],
   "source": [
    "import pandas as pd"
   ]
  },
  {
   "cell_type": "code",
   "execution_count": 2,
   "id": "9e236eac",
   "metadata": {},
   "outputs": [],
   "source": [
    "df_recipes = pd.read_csv('../Datasets/RAW_recipes.csv')\n",
    "df_interactions = pd.read_csv('../Datasets/RAW_interactions.csv')"
   ]
  },
  {
   "cell_type": "code",
   "execution_count": 3,
   "id": "f38e3856",
   "metadata": {},
   "outputs": [],
   "source": [
    "df_grouped = df_interactions.groupby('recipe_id', group_keys=True)\n",
    "df_ratings = df_grouped.agg({\n",
    "    'recipe_id':'last',\n",
    "    'rating':'mean'\n",
    "})\n",
    "df_ratings = df_ratings.reset_index(drop=True)\n",
    "df_ratings = df_ratings.rename(columns={\"recipe_id\":\"id\", \"rating\":\"score\"})\n",
    "df_merged = pd.merge(df_recipes, df_ratings, on='id')\n",
    "df_merged['difficulty'] = df_merged.n_steps * df_merged.minutes\n",
    "bins = [df_merged['difficulty'].min(), 150, 350, 750, df_merged['difficulty'].max()]\n",
    "labels = ['easy', 'medium', 'hard', 'very hard']\n",
    "df_merged['difficulty'] = pd.cut(df_merged['difficulty'], bins=bins, labels=labels)\n",
    "df_merged = df_merged.drop(df_merged.index[[3381]]) #Error in line formatting"
   ]
  },
  {
   "cell_type": "code",
   "execution_count": 4,
   "id": "201f4f50",
   "metadata": {},
   "outputs": [],
   "source": [
    "import re\n",
    "from cassandra.cluster import Cluster\n",
    "from cassandra.concurrent import execute_concurrent\n",
    "\n",
    "cluster = Cluster(['127.0.0.1'])\n",
    "session = cluster.connect()\n",
    " \n",
    "set_mapping_table = str.maketrans({'[': '{', ']': '}'})\n",
    "description_mapping_table = str.maketrans({\"'\": \"\"})\n",
    "apostrophe_mapping_table = str.maketrans({\"'\": \"''\"})\n",
    "\n",
    "statements_and_params = []\n",
    "\n",
    "query_insert_recipes_by_date_submitted = session.prepare(\"INSERT INTO recipe.recipes_by_date_submitted (date_submitted,score,id,name) VALUES (?,?,?,?)\")\n",
    "#insert into recipes_by_name not needed since it is a materialized view, so it has the data from recipes_by_date_submitted\n",
    "query_insert_recipes_by_difficulty = session.prepare(\"INSERT INTO recipe.recipes_by_difficulty (difficulty,score,id,name,date_submitted) VALUES (?,?,?,?,?)\")\n",
    "query_insert_recipes = session.prepare(\"INSERT INTO recipe.recipes (name,id,minutes,contributor_id,score,date_submitted,tags,nutrition,steps,number_of_steps,description,ingredients,number_of_ingredients,difficulty) VALUES (?,?,?,?,?,?,?,?,?,?,?,?,?,?)\")\n",
    "query_insert_recipes_by_tag = session.prepare(\"INSERT INTO recipe.recipes_by_tag (tags,date_submitted,score,id,name,minutes) VALUES (?,?,?,?,?,?)\")\n",
    "\n",
    "data_insert_recipes_by_date_submitted = []\n",
    "data_insert_recipes_by_difficulty = []\n",
    "data_insert_recipes = []\n",
    "data_insert_recipes_by_tag = []\n",
    "\n",
    "def convertToListOfFloat(text):\n",
    "    result = []\n",
    "    text = text.strip('[' + ']')\n",
    "    for kv in re.split(',|\\*|\\n', text):\n",
    "        kv = kv.strip()\n",
    "        if(len(kv) == 0):\n",
    "            continue\n",
    "        result.append(float(kv))\n",
    "    return result\n",
    "\n",
    "def convertToSetOrListOfText(text, typeSelector):\n",
    "    result = []\n",
    "    if typeSelector == 'set':\n",
    "        beginning = '{'\n",
    "        end = '}'\n",
    "        text = text.translate(set_mapping_table)\n",
    "    else:\n",
    "        beginning = '['\n",
    "        end = ']'\n",
    "    text = text.strip(beginning + end)\n",
    "    for kv in re.split('\\', |\\\", |\\*|\\n', text):\n",
    "        kv = kv.strip()\n",
    "        if(len(kv) == 0):\n",
    "            continue\n",
    "        elif(kv[0] == '\\\"'):\n",
    "            kv = kv.strip(\"\\\"\")\n",
    "        elif(kv[0] == '\\''):\n",
    "            kv = kv.strip(\"\\'\")\n",
    "        kv = kv.translate(apostrophe_mapping_table)\n",
    "        result.append(kv)\n",
    "    return result\n",
    " \n",
    "for index, row in df_merged.iterrows():\n",
    "        statements_and_params.append((query_insert_recipes_by_date_submitted, (str(row['submitted']),row['score'],row['id'],str(row['name']))))\n",
    "        statements_and_params.append((query_insert_recipes_by_difficulty, (str(row['difficulty']),row['score'],row['id'],str(row['name']),str(row['submitted']))))\n",
    "        statements_and_params.append((query_insert_recipes, (str(row['name']),row['id'],row['minutes'],row['contributor_id'],row['score'],str(row['submitted']),convertToSetOrListOfText(str(row['tags']), 'set'),convertToListOfFloat(str(row['nutrition'])),convertToSetOrListOfText(str(row['steps']), 'list'),row['n_steps'],str(row['description']).translate(description_mapping_table),convertToSetOrListOfText(str(row['ingredients']), 'set'),row['n_ingredients'],str(row['difficulty']))))\n",
    "        statements_and_params.append((query_insert_recipes_by_tag, (convertToSetOrListOfText(str(row['tags']), 'set'),str(row['submitted']),row['score'],row['id'],str(row['name']),row['minutes'])))"
   ]
  },
  {
   "cell_type": "code",
   "execution_count": 5,
   "id": "77e4a326",
   "metadata": {},
   "outputs": [
    {
     "name": "stdout",
     "output_type": "stream",
     "text": [
      "Execution time: 00:03:45\n"
     ]
    }
   ],
   "source": [
    "import time\n",
    "\n",
    "starting_time = time.time()\n",
    "    \n",
    "results = execute_concurrent(\n",
    "    session, statements_and_params, raise_on_first_error=True)\n",
    "\n",
    "elapsed_time = time.time() - starting_time\n",
    "print('Execution time:', time.strftime(\"%H:%M:%S\", time.gmtime(elapsed_time)))\n",
    "    \n",
    "cluster.shutdown()"
   ]
  }
 ],
 "metadata": {
  "kernelspec": {
   "display_name": "Python 3 (ipykernel)",
   "language": "python",
   "name": "python3"
  },
  "language_info": {
   "codemirror_mode": {
    "name": "ipython",
    "version": 3
   },
   "file_extension": ".py",
   "mimetype": "text/x-python",
   "name": "python",
   "nbconvert_exporter": "python",
   "pygments_lexer": "ipython3",
   "version": "3.9.16"
  }
 },
 "nbformat": 4,
 "nbformat_minor": 5
}
