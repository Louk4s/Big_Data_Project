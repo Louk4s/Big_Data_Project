{
 "cells": [
  {
   "cell_type": "code",
   "execution_count": 1,
   "id": "df7ea053",
   "metadata": {},
   "outputs": [],
   "source": [
    "import pandas as pd"
   ]
  },
  {
   "cell_type": "code",
   "execution_count": 6,
   "id": "9e236eac",
   "metadata": {},
   "outputs": [],
   "source": [
    "df_recipes = pd.read_csv('../Datasets/RAW_recipes.csv')\n",
    "df_interactions = pd.read_csv('../Datasets/RAW_interactions.csv')"
   ]
  },
  {
   "cell_type": "code",
   "execution_count": 7,
   "id": "f38e3856",
   "metadata": {},
   "outputs": [],
   "source": [
    "df_grouped = df_interactions.groupby('recipe_id', group_keys=True)\n",
    "df_ratings = df_grouped.agg({\n",
    "    'recipe_id':'last',\n",
    "    'rating':'mean'\n",
    "})\n",
    "df_ratings = df_ratings.reset_index(drop=True)\n",
    "df_ratings = df_ratings.rename(columns={\"recipe_id\":\"id\", \"rating\":\"score\"})\n",
    "df_merged = pd.merge(df_recipes, df_ratings, on='id')\n",
    "df_merged = df_merged.drop(df_merged.index[[3381]]) #Error in line formatting"
   ]
  },
  {
   "cell_type": "code",
   "execution_count": 8,
   "id": "7562858f",
   "metadata": {},
   "outputs": [],
   "source": [
    "import re\n",
    "\n",
    "set_mapping_table = str.maketrans({'[': '{', ']': '}'})\n",
    "description_mapping_table = str.maketrans({\"'\": \"\"})\n",
    "apostrophe_mapping_table = str.maketrans({\"'\": \"''\"})\n",
    "\n",
    "insert_recipes_by_score = []\n",
    "insert_recipes_by_number_of_steps = []\n",
    "insert_recipes = []\n",
    "insert_recipes_by_tag = []\n",
    "\n",
    "string_insert_recipes_by_score = \"INSERT INTO recipe.recipes_by_score (score,name,id,minutes,date_submitted) VALUES \"\n",
    "string_insert_recipes_by_number_of_steps = \"INSERT INTO recipe.recipes_by_number_of_steps (number_of_steps,name,score,id,minutes,date_submitted) VALUES \"\n",
    "string_insert_recipes = \"INSERT INTO recipe.recipes (id,name,minutes,contributor_id,score,date_submitted,tags,nutrition,steps,number_of_steps,description,ingredients,number_of_ingredients) VALUES \"\n",
    "string_insert_recipes_by_tag = \"INSERT INTO recipe.recipes_by_tag (tags,name,score,id,minutes,date_submitted) VALUES \"\n",
    "\n",
    "def parseSetAndList(text, parseType):\n",
    "    if parseType == 'set':\n",
    "        beginning = '{'\n",
    "        end = '}'\n",
    "        text = text.translate(set_mapping_table)\n",
    "    else:\n",
    "        beginning = '['\n",
    "        end = ']'\n",
    "    text = text.strip(beginning + end)\n",
    "    result = beginning\n",
    "    for kv in re.split('\\', |\\\", |\\*|\\n', text):\n",
    "        kv = kv.strip()\n",
    "        if(len(kv) == 0):\n",
    "            continue\n",
    "        elif(kv[0] == '\\\"'):\n",
    "            kv = kv.strip(\"\\\"\")\n",
    "        elif(kv[0] == '\\''):\n",
    "            kv = kv.strip(\"\\'\")\n",
    "        kv = kv.translate(apostrophe_mapping_table)\n",
    "        kv = '\\'' + kv +'\\''\n",
    "        result = result + kv + ',';\n",
    "    result = result[:-1] + end\n",
    "    return result\n",
    " \n",
    "for index, row in df_merged.iterrows():\n",
    "        insert_recipes_by_score.append(string_insert_recipes_by_score + \"(\" + str(row['score']) + \",'\" + str(row['name']) + \"',\" + str(row['id']) + \",\" + str(row['minutes']) + \",'\" + str(row['submitted']) + \"');\")\n",
    "        insert_recipes_by_number_of_steps.append(string_insert_recipes_by_number_of_steps + \"(\" + str(row['n_steps']) + \",'\" + str(row['name']) + \"',\" + str(row['score']) + \",\" + str(row['id']) + \",\" + str(row['minutes']) + \",'\" + str(row['submitted']) + \"');\")\n",
    "        insert_recipes.append((string_insert_recipes + \"(\" + str(row['id']) + \",'\" + str(row['name']) + \"',\" + str(row['minutes']) + \",\" + str(row['contributor_id']) + \",\" + str(row['score']) + \",'\" + str(row['submitted']) + \"',\" + str(row['tags']).translate(set_mapping_table) + \",\" + str(row['nutrition']) + \",\" + parseSetAndList(str(row['steps']), 'list') + \",\" + str(row['n_steps']) + \",'\" + str(row['description']).translate(description_mapping_table) + \"',\" + parseSetAndList(str(row['ingredients']), 'set') + \",\" + str(row['n_ingredients']) + \");\").replace(\"\\n\", \"\"))\n",
    "        insert_recipes_by_tag.append(string_insert_recipes_by_tag + \"(\" + str(row['tags']).translate(set_mapping_table) + \",'\" + str(row['name']) + \"',\" + str(row['score']) + \",\" + str(row['id']) + \",\" + str(row['minutes']) + \",'\" + str(row['submitted']) + \"');\")"
   ]
  },
  {
   "cell_type": "code",
   "execution_count": 9,
   "id": "95a778e7",
   "metadata": {},
   "outputs": [
    {
     "name": "stdout",
     "output_type": "stream",
     "text": [
      "Execution time: 00:02:32\n"
     ]
    }
   ],
   "source": [
    "import time\n",
    "from cassandra.cluster import Cluster\n",
    "\n",
    "cluster = Cluster(['127.0.0.1'])\n",
    "starting_time = time.time()\n",
    "session = cluster.connect()\n",
    " \n",
    "try:\n",
    "    for insert in insert_recipes_by_score:\n",
    "        session.execute_async(insert)\n",
    "    for insert in insert_recipes_by_number_of_steps:\n",
    "        session.execute_async(insert)\n",
    "    for insert in insert_recipes:\n",
    "        session.execute_async(insert)\n",
    "    for insert in insert_recipes_by_tag:\n",
    "        session.execute_async(insert)\n",
    "except Exception as e:\n",
    "    print(\"An error occured : \" + str(e))\n",
    "    pass\n",
    "elapsed_time = time.time() - starting_time\n",
    "print('Execution time:', time.strftime(\"%H:%M:%S\", time.gmtime(elapsed_time)))\n",
    "    \n",
    "cluster.shutdown()"
   ]
  }
 ],
 "metadata": {
  "kernelspec": {
   "display_name": "Python 3 (ipykernel)",
   "language": "python",
   "name": "python3"
  },
  "language_info": {
   "codemirror_mode": {
    "name": "ipython",
    "version": 3
   },
   "file_extension": ".py",
   "mimetype": "text/x-python",
   "name": "python",
   "nbconvert_exporter": "python",
   "pygments_lexer": "ipython3",
   "version": "3.9.16"
  }
 },
 "nbformat": 4,
 "nbformat_minor": 5
}
